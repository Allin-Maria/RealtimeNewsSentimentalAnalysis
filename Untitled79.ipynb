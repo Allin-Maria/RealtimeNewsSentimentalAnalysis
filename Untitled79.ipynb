{
  "cells": [
    {
      "cell_type": "code",
      "execution_count": null,
      "metadata": {
        "colab": {
          "background_save": true
        },
        "id": "KW4Wn7mCkKRY",
        "outputId": "8ac0199b-b361-416e-f01d-dcb444716500"
      },
      "outputs": [
        {
          "name": "stderr",
          "output_type": "stream",
          "text": [
            "2025-09-27 10:37:09.795 Thread 'MainThread': missing ScriptRunContext! This warning can be ignored when running in bare mode.\n",
            "2025-09-27 10:37:09.797 Thread 'MainThread': missing ScriptRunContext! This warning can be ignored when running in bare mode.\n",
            "2025-09-27 10:37:09.800 Thread 'MainThread': missing ScriptRunContext! This warning can be ignored when running in bare mode.\n",
            "2025-09-27 10:37:09.801 Thread 'MainThread': missing ScriptRunContext! This warning can be ignored when running in bare mode.\n",
            "2025-09-27 10:37:09.803 Thread 'MainThread': missing ScriptRunContext! This warning can be ignored when running in bare mode.\n",
            "2025-09-27 10:37:09.805 Thread 'MainThread': missing ScriptRunContext! This warning can be ignored when running in bare mode.\n",
            "2025-09-27 10:37:09.808 Thread 'MainThread': missing ScriptRunContext! This warning can be ignored when running in bare mode.\n",
            "2025-09-27 10:37:09.810 Thread 'MainThread': missing ScriptRunContext! This warning can be ignored when running in bare mode.\n",
            "2025-09-27 10:37:09.811 Thread 'MainThread': missing ScriptRunContext! This warning can be ignored when running in bare mode.\n",
            "2025-09-27 10:37:09.812 Thread 'MainThread': missing ScriptRunContext! This warning can be ignored when running in bare mode.\n",
            "2025-09-27 10:37:09.816 Thread 'MainThread': missing ScriptRunContext! This warning can be ignored when running in bare mode.\n",
            "2025-09-27 10:37:09.816 Thread 'MainThread': missing ScriptRunContext! This warning can be ignored when running in bare mode.\n",
            "2025-09-27 10:37:09.818 Thread 'MainThread': missing ScriptRunContext! This warning can be ignored when running in bare mode.\n",
            "2025-09-27 10:37:09.819 Thread 'MainThread': missing ScriptRunContext! This warning can be ignored when running in bare mode.\n",
            "2025-09-27 10:37:09.820 Thread 'MainThread': missing ScriptRunContext! This warning can be ignored when running in bare mode.\n",
            "2025-09-27 10:37:09.821 Thread 'MainThread': missing ScriptRunContext! This warning can be ignored when running in bare mode.\n",
            "2025-09-27 10:37:09.826 Thread 'MainThread': missing ScriptRunContext! This warning can be ignored when running in bare mode.\n",
            "2025-09-27 10:37:09.826 Thread 'MainThread': missing ScriptRunContext! This warning can be ignored when running in bare mode.\n",
            "2025-09-27 10:37:09.827 Thread 'MainThread': missing ScriptRunContext! This warning can be ignored when running in bare mode.\n",
            "2025-09-27 10:37:09.834 Thread 'MainThread': missing ScriptRunContext! This warning can be ignored when running in bare mode.\n",
            "2025-09-27 10:37:09.835 Thread 'MainThread': missing ScriptRunContext! This warning can be ignored when running in bare mode.\n",
            "2025-09-27 10:37:09.836 Thread 'MainThread': missing ScriptRunContext! This warning can be ignored when running in bare mode.\n",
            "2025-09-27 10:37:09.838 Thread 'MainThread': missing ScriptRunContext! This warning can be ignored when running in bare mode.\n",
            "2025-09-27 10:37:09.839 Thread 'MainThread': missing ScriptRunContext! This warning can be ignored when running in bare mode.\n",
            "2025-09-27 10:37:09.840 Thread 'MainThread': missing ScriptRunContext! This warning can be ignored when running in bare mode.\n",
            "2025-09-27 10:37:09.841 Thread 'MainThread': missing ScriptRunContext! This warning can be ignored when running in bare mode.\n",
            "2025-09-27 10:37:09.844 Thread 'MainThread': missing ScriptRunContext! This warning can be ignored when running in bare mode.\n",
            "2025-09-27 10:37:09.845 Thread 'MainThread': missing ScriptRunContext! This warning can be ignored when running in bare mode.\n",
            "2025-09-27 10:37:09.847 Thread 'MainThread': missing ScriptRunContext! This warning can be ignored when running in bare mode.\n",
            "2025-09-27 10:37:09.848 Thread 'MainThread': missing ScriptRunContext! This warning can be ignored when running in bare mode.\n",
            "2025-09-27 10:37:09.849 Thread 'MainThread': missing ScriptRunContext! This warning can be ignored when running in bare mode.\n",
            "2025-09-27 10:37:09.850 Thread 'MainThread': missing ScriptRunContext! This warning can be ignored when running in bare mode.\n",
            "2025-09-27 10:37:09.852 Thread 'MainThread': missing ScriptRunContext! This warning can be ignored when running in bare mode.\n",
            "2025-09-27 10:37:09.852 Thread 'MainThread': missing ScriptRunContext! This warning can be ignored when running in bare mode.\n"
          ]
        },
        {
          "data": {
            "text/plain": [
              "DeltaGenerator()"
            ]
          },
          "execution_count": 8,
          "metadata": {},
          "output_type": "execute_result"
        }
      ],
      "source": [
        "# -*- coding: utf-8 -*-\n",
        "\"\"\"\n",
        "Real-Time News Sentiment Dashboard with Streamlit + TextBlob\n",
        "\"\"\"\n",
        "\n",
        "import os\n",
        "import time\n",
        "import uuid\n",
        "import pandas as pd\n",
        "import streamlit as st\n",
        "import plotly.express as px\n",
        "import requests\n",
        "from textblob import TextBlob\n",
        "\n",
        "# Optional fallback news\n",
        "try:\n",
        "    from gnews import GNews\n",
        "except:\n",
        "    # gnews installation is handled in a separate cell if needed\n",
        "    pass\n",
        "\n",
        "# ===================== CONFIG =====================\n",
        "NEWSAPI_KEY = \"f66ca097bbb694ffb20bd363a4412495\"  # <-- Replace with your NewsAPI key\n",
        "PRED_DIR = \"predictions_parquet\"\n",
        "os.makedirs(PRED_DIR, exist_ok=True)\n",
        "\n",
        "# ===================== NEWS FETCHERS =====================\n",
        "def fetch_news_newsapi(limit=20):\n",
        "    url = \"https://newsapi.org/v2/top-headlines\"\n",
        "    params = {\n",
        "        \"apiKey\": NEWSAPI_KEY,\n",
        "        \"language\": \"en\",\n",
        "        \"pageSize\": limit\n",
        "    }\n",
        "    try:\n",
        "        r = requests.get(url, params=params, timeout=10)\n",
        "        r.raise_for_status()\n",
        "        articles = r.json().get(\"articles\", [])\n",
        "        rows = []\n",
        "        for a in articles:\n",
        "            rows.append({\n",
        "                \"id\": a.get(\"url\") or str(uuid.uuid4()),\n",
        "                \"source\": (a.get(\"source\") or {}).get(\"name\"),\n",
        "                \"title\": a.get(\"title\"),\n",
        "                \"publishedAt\": a.get(\"publishedAt\")\n",
        "            })\n",
        "        return pd.DataFrame(rows)\n",
        "    except:\n",
        "        st.warning(\"NewsAPI failed. Using GNews fallback.\")\n",
        "        return fetch_news_gnews(limit)\n",
        "\n",
        "def fetch_news_gnews(limit=20):\n",
        "    g = GNews(language=\"en\", country=\"US\")\n",
        "    articles = g.get_top_news()[:limit]\n",
        "    rows = []\n",
        "    for a in articles:\n",
        "        rows.append({\n",
        "            \"id\": a.get(\"url\") or str(uuid.uuid4()),\n",
        "            \"source\": a.get(\"source\"),\n",
        "            \"title\": a.get(\"title\"),\n",
        "            \"publishedAt\": a.get(\"publishedAt\")\n",
        "        })\n",
        "    return pd.DataFrame(rows)\n",
        "\n",
        "# ===================== SENTIMENT PREDICTION =====================\n",
        "def classify_sentiment(df):\n",
        "    if df.empty:\n",
        "        return None\n",
        "    df['sentiment'] = df['title'].apply(lambda t: \"Positive\" if TextBlob(t).sentiment.polarity > 0 else \"Negative\")\n",
        "    df['prob_pos'] = df['title'].apply(lambda t: max(TextBlob(t).sentiment.polarity, 0))\n",
        "    fname = os.path.join(PRED_DIR, f\"pred_{uuid.uuid4().hex}.parquet\")\n",
        "    df.to_parquet(fname, index=False)\n",
        "    return df\n",
        "\n",
        "# ===================== DASHBOARD =====================\n",
        "st.set_page_config(page_title=\"Real-Time News Sentiment\", layout=\"wide\")\n",
        "st.title(\"📰 Real-Time News Sentiment Dashboard\")\n",
        "\n",
        "refresh_interval = st.sidebar.slider(\"Refresh interval (seconds)\", 10, 120, 30)\n",
        "\n",
        "if st.button(\"Fetch & Classify Latest News\"):\n",
        "    df_new = fetch_news_newsapi(20)\n",
        "    out = classify_sentiment(df_new)\n",
        "    st.success(f\"Processed {len(out)} headlines\") if out is not None else st.warning(\"No headlines fetched\")\n",
        "\n",
        "def load_recent(n=200):\n",
        "    import glob\n",
        "    files = sorted(glob.glob(os.path.join(PRED_DIR, \"*.parquet\")), key=os.path.getmtime, reverse=True)[:50]\n",
        "    if not files:\n",
        "        return pd.DataFrame(columns=[\"id\",\"source\",\"title\",\"publishedAt\",\"sentiment\",\"prob_pos\"])\n",
        "    df = pd.concat([pd.read_parquet(f) for f in files], ignore_index=True)\n",
        "    df = df.drop_duplicates(subset=['id'])\n",
        "    df['publishedAt'] = pd.to_datetime(df['publishedAt'], errors='coerce')\n",
        "    return df.sort_values('publishedAt', ascending=False).head(n)\n",
        "\n",
        "df = load_recent()\n",
        "st.subheader(\"Latest Headlines\")\n",
        "st.dataframe(df[['publishedAt','source','title','sentiment','prob_pos']].rename(columns={'title':'headline'}), height=400)\n",
        "\n",
        "col1, col2 = st.columns([2,1])\n",
        "with col1:\n",
        "    st.subheader(\"Sentiment Distribution\")\n",
        "    if not df.empty:\n",
        "        counts = df['sentiment'].value_counts().rename_axis('sentiment').reset_index(name='count')\n",
        "        fig = px.bar(counts, x='sentiment', y='count', color='sentiment', title=\"Sentiment Distribution\")\n",
        "        st.plotly_chart(fig, use_container_width=True)\n",
        "with col2:\n",
        "    st.subheader(\"Positive Sentiment Trend\")\n",
        "    if not df.empty:\n",
        "        df_sorted = df.sort_values('publishedAt')\n",
        "        st.line_chart(df_sorted.set_index('publishedAt')['prob_pos'].fillna(0))\n",
        "\n",
        "st.markdown(f\"**Last updated:** {pd.Timestamp.now()}\")"
      ]
    },
    {
      "cell_type": "markdown",
      "metadata": {
        "id": "1702f736"
      },
      "source": [
        "Now that the necessary libraries are installed, you can run the Streamlit app using the `streamlit run` command. This will generate a public URL that you can click to view the dashboard."
      ]
    },
    {
      "cell_type": "code",
      "execution_count": null,
      "metadata": {
        "colab": {
          "base_uri": "https://localhost:8080/"
        },
        "id": "c77755c3",
        "outputId": "715af816-8c71-49e8-df6b-5d8b441276f2"
      },
      "outputs": [
        {
          "name": "stdout",
          "output_type": "stream",
          "text": [
            "\n",
            "Collecting usage statistics. To deactivate, set browser.gatherUsageStats to false.\n",
            "\u001b[0m\n",
            "\u001b[0m\n",
            "\u001b[34m\u001b[1m  You can now view your Streamlit app in your browser.\u001b[0m\n",
            "\u001b[0m\n",
            "\u001b[34m  Local URL: \u001b[0m\u001b[1mhttp://localhost:8501\u001b[0m\n",
            "\u001b[34m  Network URL: \u001b[0m\u001b[1mhttp://172.28.0.12:8501\u001b[0m\n",
            "\u001b[34m  External URL: \u001b[0m\u001b[1mhttp://35.194.243.174:8501\u001b[0m\n",
            "\u001b[0m\n"
          ]
        }
      ],
      "source": [
        "!streamlit run /usr/local/lib/python3.12/dist-packages/colab_kernel_launcher.py"
      ]
    },
    {
      "cell_type": "code",
      "execution_count": null,
      "metadata": {
        "id": "edb9647c"
      },
      "outputs": [],
      "source": [
        "!pip install streamlit"
      ]
    }
  ],
  "metadata": {
    "colab": {
      "provenance": []
    },
    "kernelspec": {
      "display_name": "Python 3",
      "name": "python3"
    },
    "language_info": {
      "name": "python"
    }
  },
  "nbformat": 4,
  "nbformat_minor": 0
}